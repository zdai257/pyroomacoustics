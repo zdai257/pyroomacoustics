{
 "cells": [
  {
   "cell_type": "code",
   "execution_count": 11,
   "id": "53371ae5",
   "metadata": {
    "scrolled": true
   },
   "outputs": [],
   "source": [
    "import scaper\n",
    "import os\n",
    "import soundfile as sf"
   ]
  },
  {
   "cell_type": "code",
   "execution_count": 4,
   "id": "4a56ce99",
   "metadata": {},
   "outputs": [
    {
     "name": "stdout",
     "output_type": "stream",
     "text": [
      "background  foreground\tshort_background\r\n"
     ]
    }
   ],
   "source": [
    "!ls audio/"
   ]
  },
  {
   "cell_type": "code",
   "execution_count": 35,
   "id": "c0639a29",
   "metadata": {},
   "outputs": [],
   "source": [
    "path_to_audio = os.path.expanduser('~/repos/scaper_workspace/audio')\n",
    "\n",
    "soundscape_duration = 5.0\n",
    "seed = 123\n",
    "foreground_folder = os.path.join(path_to_audio, 'foreground')\n",
    "background_folder = os.path.join(path_to_audio, 'background')\n",
    "sc = scaper.Scaper(soundscape_duration, foreground_folder, background_folder)\n",
    "sc.ref_db = -40"
   ]
  },
  {
   "cell_type": "code",
   "execution_count": 36,
   "id": "bd0bf831",
   "metadata": {},
   "outputs": [],
   "source": [
    "sc.add_background(label=('const', 'park'),\n",
    "                  source_file=('choose', []),\n",
    "                  source_time=('const', 0))"
   ]
  },
  {
   "cell_type": "code",
   "execution_count": 37,
   "id": "d2470717",
   "metadata": {},
   "outputs": [],
   "source": [
    "for _ in range(4):\n",
    "    sc.add_event(label=('const', 'siren'),\n",
    "             source_file=('choose', []),\n",
    "             source_time=('const', 0),\n",
    "             event_time=('uniform', 0, 4),\n",
    "             event_duration=('truncnorm', 1, 0.5, 0.5, 4.5),\n",
    "             snr=('normal', 3, 3),\n",
    "             pitch_shift=('uniform', -2, 2),\n",
    "             time_stretch=('uniform', 0.8, 1.2))"
   ]
  },
  {
   "cell_type": "code",
   "execution_count": 38,
   "id": "d4deaf58",
   "metadata": {},
   "outputs": [
    {
     "data": {
      "text/plain": [
       "(array([[0.03143507],\n",
       "        [0.03530353],\n",
       "        [0.02544427],\n",
       "        ...,\n",
       "        [0.01695671],\n",
       "        [0.01527521],\n",
       "        [0.01538018]]),\n",
       " <JAMS(file_metadata=<FileMetadata(...)>,\n",
       "       annotations=[1 annotation],\n",
       "       sandbox=<Sandbox(...)>)>,\n",
       " [[0.9137829043594223, 2.278653712592692, 'siren'],\n",
       "  [1.8648503556300504, 3.2652874993206504, 'siren'],\n",
       "  [3.2486584751279106, 4.870155408548636, 'siren'],\n",
       "  [3.2888584916529022, 4.482541688201547, 'siren']],\n",
       " [array([[0.03143506],\n",
       "         [0.03530354],\n",
       "         [0.02544425],\n",
       "         ...,\n",
       "         [0.01832427],\n",
       "         [0.01674088],\n",
       "         [0.01684791]]),\n",
       "  array([[0.],\n",
       "         [0.],\n",
       "         [0.],\n",
       "         ...,\n",
       "         [0.],\n",
       "         [0.],\n",
       "         [0.]]),\n",
       "  array([[0.],\n",
       "         [0.],\n",
       "         [0.],\n",
       "         ...,\n",
       "         [0.],\n",
       "         [0.],\n",
       "         [0.]]),\n",
       "  array([[0.],\n",
       "         [0.],\n",
       "         [0.],\n",
       "         ...,\n",
       "         [0.],\n",
       "         [0.],\n",
       "         [0.]]),\n",
       "  array([[0.],\n",
       "         [0.],\n",
       "         [0.],\n",
       "         ...,\n",
       "         [0.],\n",
       "         [0.],\n",
       "         [0.]])])"
      ]
     },
     "execution_count": 38,
     "metadata": {},
     "output_type": "execute_result"
    }
   ],
   "source": [
    "audiofile = 'soundscape.wav'\n",
    "jamsfile = 'soundscape.jams'\n",
    "txtfile = 'soundscape.txt'\n",
    "sc.generate(audiofile, jamsfile,\n",
    "            allow_repeated_label=True,\n",
    "            allow_repeated_source=True,\n",
    "            reverb=0.1,\n",
    "            disable_sox_warnings=True,\n",
    "            no_audio=False,\n",
    "            txt_path=txtfile)"
   ]
  },
  {
   "cell_type": "code",
   "execution_count": null,
   "id": "088b1efc",
   "metadata": {},
   "outputs": [],
   "source": []
  }
 ],
 "metadata": {
  "kernelspec": {
   "display_name": "Python 3 (ipykernel)",
   "language": "python",
   "name": "python3"
  },
  "language_info": {
   "codemirror_mode": {
    "name": "ipython",
    "version": 3
   },
   "file_extension": ".py",
   "mimetype": "text/x-python",
   "name": "python",
   "nbconvert_exporter": "python",
   "pygments_lexer": "ipython3",
   "version": "3.7.11"
  }
 },
 "nbformat": 4,
 "nbformat_minor": 5
}
